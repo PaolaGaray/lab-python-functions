{
 "cells": [
  {
   "cell_type": "markdown",
   "id": "25d7736c-ba17-4aff-b6bb-66eba20fbf4e",
   "metadata": {},
   "source": [
    "# Lab | Functions"
   ]
  },
  {
   "cell_type": "markdown",
   "id": "0c581062-8967-4d93-b06e-62833222f930",
   "metadata": {
    "tags": []
   },
   "source": [
    "## Exercise: Managing Customer Orders with Functions\n",
    "\n",
    "In the previous exercise, you improved the code for managing customer orders by using loops and flow control. Now, let's take it a step further and refactor the code by introducing functions.\n",
    "\n",
    "Follow the steps below to complete the exercise:\n",
    "\n",
    "1. Define a function named `initialize_inventory` that takes `products` as a parameter. Inside the function, implement the code for initializing the inventory dictionary using a loop and user input."
   ]
  },
  {
   "cell_type": "code",
   "execution_count": 1,
   "id": "ed189e7b-0467-4e23-a34f-85cf9580a047",
   "metadata": {},
   "outputs": [
    {
     "name": "stdin",
     "output_type": "stream",
     "text": [
      "Please enter the quantity of the t-shirt:  100\n",
      "Please enter the quantity of the mug:  50\n",
      "Please enter the quantity of the hat:  80\n",
      "Please enter the quantity of the book:  120\n",
      "Please enter the quantity of the keychain:  40\n"
     ]
    },
    {
     "name": "stdout",
     "output_type": "stream",
     "text": [
      "\n",
      "Inventory: {'t-shirt': 100, 'mug': 50, 'hat': 80, 'book': 120, 'keychain': 40}\n"
     ]
    }
   ],
   "source": [
    "products = [\"t-shirt\", \"mug\", \"hat\", \"book\", \"keychain\"]\n",
    "\n",
    "def initialize_inventory(products):\n",
    "    inventory = {product: int(input(f\"Please enter the quantity of the {product}: \")) for product in products}\n",
    "    return inventory\n",
    "\n",
    "inventory = initialize_inventory(products)\n",
    "print(f\"\\nInventory: {inventory}\")"
   ]
  },
  {
   "cell_type": "markdown",
   "id": "e79a9512-38c7-4917-99c6-421e6699a262",
   "metadata": {},
   "source": [
    "2. Define a function named `get_customer_orders` that takes no parameters. Inside the function, implement the code for prompting the user to enter the product names using a loop. The function should return the `customer_orders` set.\n",
    "\n",
    "3. Define a function named update_inventory that takes customer_orders and inventory as parameters. Inside the function, implement the code for updating the inventory dictionary based on the customer orders."
   ]
  },
  {
   "cell_type": "code",
   "execution_count": 3,
   "id": "e7716d03-2f65-47ce-a3a6-c49ed5256728",
   "metadata": {},
   "outputs": [
    {
     "name": "stdout",
     "output_type": "stream",
     "text": [
      "These are our products: 't-shirt', 'mug', 'hat', 'book' or 'keychain'\n"
     ]
    },
    {
     "name": "stdin",
     "output_type": "stream",
     "text": [
      "Please enter the name of the product you would like to order:  book\n",
      "How many books do you want to order?:   5\n"
     ]
    },
    {
     "name": "stdout",
     "output_type": "stream",
     "text": [
      "product added!\n"
     ]
    },
    {
     "name": "stdin",
     "output_type": "stream",
     "text": [
      "Do you want to continue? Type 'y' for yes, or 'n' for not:  y\n"
     ]
    },
    {
     "name": "stdout",
     "output_type": "stream",
     "text": [
      "These are our products: 't-shirt', 'mug', 'hat', 'book' or 'keychain'\n"
     ]
    },
    {
     "name": "stdin",
     "output_type": "stream",
     "text": [
      "Please enter the name of the product you would like to order:  mug\n",
      "How many mugs do you want to order?:   2\n"
     ]
    },
    {
     "name": "stdout",
     "output_type": "stream",
     "text": [
      "product added!\n"
     ]
    },
    {
     "name": "stdin",
     "output_type": "stream",
     "text": [
      "Do you want to continue? Type 'y' for yes, or 'n' for not:  y\n"
     ]
    },
    {
     "name": "stdout",
     "output_type": "stream",
     "text": [
      "These are our products: 't-shirt', 'mug', 'hat', 'book' or 'keychain'\n"
     ]
    },
    {
     "name": "stdin",
     "output_type": "stream",
     "text": [
      "Please enter the name of the product you would like to order:  t-shirt\n",
      "How many t-shirts do you want to order?:   4\n"
     ]
    },
    {
     "name": "stdout",
     "output_type": "stream",
     "text": [
      "product added!\n"
     ]
    },
    {
     "name": "stdin",
     "output_type": "stream",
     "text": [
      "Do you want to continue? Type 'y' for yes, or 'n' for not:  n\n"
     ]
    },
    {
     "name": "stdout",
     "output_type": "stream",
     "text": [
      "Your order: {'book': 5, 'mug': 2, 't-shirt': 4}\n",
      "Updated inventory: {'t-shirt': 96, 'mug': 48, 'hat': 80, 'book': 115, 'keychain': 40}\n"
     ]
    }
   ],
   "source": [
    "def update_inventory(customer_order, inventory):\n",
    "    inventory = {product: inventory[product] - customer_order[product] if product in customer_order else quantity for product, quantity in inventory.items()}\n",
    "    return inventory\n",
    "    \n",
    "\n",
    "def get_customer_orders(customer_order):\n",
    "    answer = 'y'\n",
    "    while answer == 'y':\n",
    "        print(\"These are our products: 't-shirt', 'mug', 'hat', 'book' or 'keychain'\")\n",
    "        product = input(\"Please enter the name of the product you would like to order: \")\n",
    "        quantity = int(input(f\"How many {product}s do you want to order?:  \"))\n",
    "\n",
    "        # Update customer_order\n",
    "        customer_order[product] = quantity\n",
    "    \n",
    "        print(\"product added!\")\n",
    "        answer = input(\"Do you want to continue? Type 'y' for yes, or 'n' for not: \")\n",
    "    return customer_order\n",
    "    \n",
    "\n",
    "customer_order = {}\n",
    "order = get_customer_orders(customer_order)\n",
    "print(f\"Your order: {order}\")\n",
    "\n",
    "# Update inventory\n",
    "inventory_updated = update_inventory(order, inventory)\n",
    "print(f\"Updated inventory: {inventory_updated}\")"
   ]
  },
  {
   "cell_type": "markdown",
   "id": "d8bf5767-5bab-44c1-a521-1d6898d1818c",
   "metadata": {},
   "source": [
    "4. Define a function named `calculate_order_statistics` that takes `customer_orders` and `products` as parameters. Inside the function, implement the code for calculating the order statistics (total products ordered, and percentage of unique products ordered). The function should return these values."
   ]
  },
  {
   "cell_type": "code",
   "execution_count": 17,
   "id": "59294603-048a-46f9-b269-614b1db7e477",
   "metadata": {},
   "outputs": [
    {
     "name": "stdout",
     "output_type": "stream",
     "text": [
      "The percentage of unique products ordered is: {'book': 4.17, 'mug': 4.0, 't-shirt': 4.0}\n",
      "The total of products ordered: 11\n"
     ]
    }
   ],
   "source": [
    "def calculate_order_statistics(order, inventory):\n",
    "    total_products_ordered = sum(order.values())\n",
    "    percentage_products_ordered = {key: round(((order[key]/inventory[key]) * 100), 2) for key in order if key in inventory}\n",
    "    return percentage_products_ordered, total_products_ordered\n",
    "\n",
    "percentage_products_ordered, total_products_ordered = calculate_order_statistics(order, inventory)\n",
    "print(f\"The percentage of unique products ordered is: {percentage_products_ordered}\")\n",
    "print(f\"The total of products ordered: {total_products_ordered}\")"
   ]
  },
  {
   "cell_type": "markdown",
   "id": "573c5e17-7c0d-4f79-9c04-3995fd4536f0",
   "metadata": {},
   "source": [
    "5. Define a function named `print_order_statistics` that takes `order_statistics` as a parameter. Inside the function, implement the code for printing the order statistics."
   ]
  },
  {
   "cell_type": "code",
   "execution_count": 21,
   "id": "5bed9213-bb54-4f70-9243-da6122852626",
   "metadata": {},
   "outputs": [
    {
     "name": "stdout",
     "output_type": "stream",
     "text": [
      "The total of products ordered: 11\n",
      "The percentage of unique products ordered is: {'book': 4.17, 'mug': 4.0, 't-shirt': 4.0}\n"
     ]
    }
   ],
   "source": [
    "order_statistics = (total_products_ordered, percentage_products_ordered)\n",
    "\n",
    "def print_order_statistics(order_statistics):\n",
    "    print(f\"The total of products ordered: {order_statistics[0]}\")\n",
    "    print(f\"The percentage of unique products ordered is: {order_statistics[1]}\")\n",
    "\n",
    "print_order_statistics(order_statistics)"
   ]
  },
  {
   "cell_type": "markdown",
   "id": "24f9d668-6999-4a21-a42c-13932fc7a78b",
   "metadata": {},
   "source": [
    "6. Define a function named `print_updated_inventory` that takes `inventory` as a parameter. Inside the function, implement the code for printing the updated inventory."
   ]
  },
  {
   "cell_type": "code",
   "execution_count": 23,
   "id": "8318cf36-ea07-42f3-a2e4-c1f7deec2d3c",
   "metadata": {},
   "outputs": [
    {
     "name": "stdout",
     "output_type": "stream",
     "text": [
      "Updated inventory: {'t-shirt': 96, 'mug': 48, 'hat': 80, 'book': 115, 'keychain': 40}\n"
     ]
    }
   ],
   "source": [
    "def print_updated_inventory(inventory_updated):\n",
    "    print(f\"Updated inventory: {inventory_updated}\")\n",
    "\n",
    "print_updated_inventory(inventory_updated)"
   ]
  },
  {
   "cell_type": "markdown",
   "id": "707aa73f-bc17-42f4-b7ec-ed46a1002444",
   "metadata": {},
   "source": []
  },
  {
   "cell_type": "markdown",
   "id": "449213ec-a1a6-4a17-9f44-1f6bf519fe82",
   "metadata": {},
   "source": [
    "7. Call the functions in the appropriate sequence to execute the program and manage customer orders.\n",
    "\n",
    "Hints for functions:\n",
    "\n",
    "- Consider the input parameters required for each function and their return values.\n",
    "- Utilize function parameters and return values to transfer data between functions.\n",
    "- Test your functions individually to ensure they work correctly."
   ]
  }
 ],
 "metadata": {
  "kernelspec": {
   "display_name": "Python 3 (ipykernel)",
   "language": "python",
   "name": "python3"
  },
  "language_info": {
   "codemirror_mode": {
    "name": "ipython",
    "version": 3
   },
   "file_extension": ".py",
   "mimetype": "text/x-python",
   "name": "python",
   "nbconvert_exporter": "python",
   "pygments_lexer": "ipython3",
   "version": "3.12.4"
  }
 },
 "nbformat": 4,
 "nbformat_minor": 5
}
